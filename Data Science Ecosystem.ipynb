{
 "cells": [
  {
   "cell_type": "markdown",
   "id": "1203b14d-8288-4422-b6ed-6010ac447829",
   "metadata": {},
   "source": [
    "# Data Science Tools and Ecosystem\n"
   ]
  },
  {
   "cell_type": "markdown",
   "id": "ad0c57a8-c39a-4c37-8a80-56c20d6198d5",
   "metadata": {},
   "source": [
    "# In this notebook, Data Science Tools and Ecosystem are summarized"
   ]
  },
  {
   "cell_type": "markdown",
   "id": "3caac1de-52c6-4db5-bbef-d7b461473e2f",
   "metadata": {},
   "source": [
    "# **Objectives**: \n",
    "* List popular languages for Data Science\n",
    "* Convert minutes to hours\n",
    "* Simple arithmetic expression to multiply then add integers"
   ]
  },
  {
   "cell_type": "markdown",
   "id": "f8531b1b-3ce1-4134-8e27-94a3ee2228f7",
   "metadata": {},
   "source": [
    "# Some of the popular languages that Data Scientists use are:\n",
    "1. Phyton\n",
    "2. R\n",
    "3. SQL"
   ]
  },
  {
   "cell_type": "markdown",
   "id": "045a7fef-45e9-4c31-92b6-ef4a6996a51e",
   "metadata": {},
   "source": [
    "# \n",
    "| Data Science Tools |\n",
    " --------------------\n",
    "| Jupiter notebook   |\n",
    "| RStudio            |\n",
    "| Spyder             |"
   ]
  },
  {
   "cell_type": "markdown",
   "id": "0a4ec1d2-55ff-465c-835b-7fb634f929db",
   "metadata": {},
   "source": [
    "### Below are a few examples of evaluating arithmetic expressions in Phyton"
   ]
  },
  {
   "cell_type": "markdown",
   "id": "019a6e30-5bdf-4c72-a3ee-332bc295876d",
   "metadata": {},
   "source": [
    "# This is a simple arithmetic expression to multiply then add integers"
   ]
  },
  {
   "cell_type": "code",
   "execution_count": 17,
   "id": "679e1857-34fa-41d9-9487-9e146e70dfff",
   "metadata": {},
   "outputs": [
    {
     "data": {
      "text/plain": [
       "17"
      ]
     },
     "execution_count": 17,
     "metadata": {},
     "output_type": "execute_result"
    }
   ],
   "source": [
    "(3*4)+5"
   ]
  },
  {
   "cell_type": "markdown",
   "id": "d3c6d732-66a6-41e8-8ddc-087a35167659",
   "metadata": {},
   "source": [
    "# This will convert 200 minutes to hours by dividing by 60"
   ]
  },
  {
   "cell_type": "code",
   "execution_count": 19,
   "id": "82742a6f-d4af-47d2-b6c2-5b7de74e8378",
   "metadata": {},
   "outputs": [
    {
     "name": "stdout",
     "output_type": "stream",
     "text": [
      "3.3333333333333335\n"
     ]
    }
   ],
   "source": [
    "hours = 200/60\n",
    "print(hours)"
   ]
  },
  {
   "cell_type": "markdown",
   "id": "42da3b22-26c6-42fb-8323-b71b02e14bd5",
   "metadata": {},
   "source": [
    "## Author\n",
    "Rares Ripiciuc"
   ]
  }
 ],
 "metadata": {
  "kernelspec": {
   "display_name": "Python 3 (ipykernel)",
   "language": "python",
   "name": "python3"
  },
  "language_info": {
   "codemirror_mode": {
    "name": "ipython",
    "version": 3
   },
   "file_extension": ".py",
   "mimetype": "text/x-python",
   "name": "python",
   "nbconvert_exporter": "python",
   "pygments_lexer": "ipython3",
   "version": "3.12.4"
  }
 },
 "nbformat": 4,
 "nbformat_minor": 5
}
